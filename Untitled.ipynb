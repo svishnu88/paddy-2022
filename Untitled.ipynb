{
 "cells": [
  {
   "cell_type": "code",
   "execution_count": 1,
   "id": "5d9f8b07-aa4f-49d2-897a-f0dd07a6a568",
   "metadata": {},
   "outputs": [
    {
     "name": "stdout",
     "output_type": "stream",
     "text": [
      "8325 2082 10407\n"
     ]
    }
   ],
   "source": [
    "from pathlib import Path\n",
    "import pandas as pd\n",
    "from utils import get_split\n",
    "from datasets import PaddyDataset\n",
    "from augs import train_transforms, valid_transforms\n",
    "\n",
    "data_path = Path('../data')\n",
    "train_images = data_path/'train_images'\n",
    "test_images = data_path/'test_images'\n",
    "train_meta = pd.read_csv(data_path/'train.csv')\n",
    "\n",
    "img_files = list(train_images.glob('*/*.jpg'))\n",
    "labels = [p.parts[-2] for p in img_files]\n",
    "label_idx = {label:i for i,label in enumerate(set(labels))}\n",
    "train_images, valid_images = get_split(items=img_files,split=0.2,seed=42)\n",
    "\n",
    "\n",
    "print(len(train_images),len(valid_images),len(img_files))\n",
    "\n",
    "train_ds = PaddyDataset(files=train_images, label_idx=label_idx, transform=train_transforms)\n",
    "valid_ds = PaddyDataset(files=valid_images, label_idx=label_idx, transform=valid_transforms)"
   ]
  },
  {
   "cell_type": "code",
   "execution_count": 3,
   "id": "cb512256-7514-4d8a-9487-118b49c2b8bb",
   "metadata": {},
   "outputs": [],
   "source": [
    "from torch.utils.data import DataLoader\n",
    "train_dl = DataLoader(dataset=train_ds,batch_size=32,shuffle=True,num_workers=6)\n",
    "\n",
    "batch = next(iter(train_dl))"
   ]
  },
  {
   "cell_type": "code",
   "execution_count": 5,
   "id": "21bb043a-37ba-4562-9433-a37ebc2effab",
   "metadata": {},
   "outputs": [],
   "source": [
    "from torchvision.models import resnet34"
   ]
  },
  {
   "cell_type": "code",
   "execution_count": 6,
   "id": "5d385a60-583c-489c-9cb9-540ab9602b5d",
   "metadata": {},
   "outputs": [],
   "source": [
    "model = resnet34()"
   ]
  },
  {
   "cell_type": "code",
   "execution_count": 8,
   "id": "1dab4653-570a-49bd-ad7b-0696a02b4249",
   "metadata": {},
   "outputs": [],
   "source": [
    "import torch"
   ]
  },
  {
   "cell_type": "code",
   "execution_count": 20,
   "id": "e2390805-935f-403c-a941-166919164cf0",
   "metadata": {},
   "outputs": [],
   "source": [
    "\n",
    "device = torch.device('cuda')"
   ]
  },
  {
   "cell_type": "code",
   "execution_count": 23,
   "id": "a14ee3ad-5ecf-444d-b69b-3145d99d11be",
   "metadata": {},
   "outputs": [],
   "source": [
    "img, lbl = batch\n",
    "img = img.to(device)\n",
    "lbl = lbl.to(device)\n",
    "model = model.to(device)"
   ]
  },
  {
   "cell_type": "code",
   "execution_count": 24,
   "id": "91f9e359-bdd9-4995-9f7d-faae3acf0836",
   "metadata": {},
   "outputs": [],
   "source": [
    "out = model(img)"
   ]
  },
  {
   "cell_type": "code",
   "execution_count": 25,
   "id": "5664e0b0-0351-4cd2-b3f3-351d76343dbe",
   "metadata": {},
   "outputs": [
    {
     "data": {
      "text/plain": [
       "torch.Size([32, 1000])"
      ]
     },
     "execution_count": 25,
     "metadata": {},
     "output_type": "execute_result"
    }
   ],
   "source": [
    "out.shape"
   ]
  },
  {
   "cell_type": "code",
   "execution_count": 26,
   "id": "20cee89a-1bb1-42a5-972f-f7aa231d220b",
   "metadata": {},
   "outputs": [
    {
     "data": {
      "text/plain": [
       "tensor([8, 0, 1, 8, 0, 8, 3, 6, 0, 8, 9, 0, 8, 9, 0, 3, 1, 0, 7, 1, 2, 8, 8, 2,\n",
       "        7, 2, 0, 3, 8, 2, 9, 0], device='cuda:0')"
      ]
     },
     "execution_count": 26,
     "metadata": {},
     "output_type": "execute_result"
    }
   ],
   "source": [
    "lbl"
   ]
  },
  {
   "cell_type": "code",
   "execution_count": 27,
   "id": "4110c2b5-b890-407c-b3cd-2e8080e5893f",
   "metadata": {},
   "outputs": [],
   "source": [
    "import torch.nn as nn"
   ]
  },
  {
   "cell_type": "code",
   "execution_count": 33,
   "id": "0b56dab4-6fde-489a-b72f-be6721f03f5a",
   "metadata": {},
   "outputs": [],
   "source": [
    "losses = nn.CrossEntropyLoss()(out,lbl)"
   ]
  },
  {
   "cell_type": "code",
   "execution_count": 38,
   "id": "009582e3-bace-48e1-9af0-740f88040451",
   "metadata": {},
   "outputs": [],
   "source": [
    "loss = []"
   ]
  },
  {
   "cell_type": "code",
   "execution_count": 39,
   "id": "dd039857-d919-47d7-94cf-de15cdd89cf4",
   "metadata": {},
   "outputs": [],
   "source": [
    "loss.append(losses.item())"
   ]
  },
  {
   "cell_type": "code",
   "execution_count": 40,
   "id": "c5eec764-2069-4a92-a749-1b95bf912e25",
   "metadata": {},
   "outputs": [],
   "source": [
    "loss.append(losses.item())"
   ]
  },
  {
   "cell_type": "code",
   "execution_count": 41,
   "id": "89652c40-d822-453e-ac0c-0de37eeece27",
   "metadata": {},
   "outputs": [
    {
     "data": {
      "text/plain": [
       "[6.75318717956543, 6.75318717956543]"
      ]
     },
     "execution_count": 41,
     "metadata": {},
     "output_type": "execute_result"
    }
   ],
   "source": [
    "loss"
   ]
  },
  {
   "cell_type": "code",
   "execution_count": 16,
   "id": "63f4c3dd-13d9-4427-bc0f-8ff129151fcd",
   "metadata": {},
   "outputs": [
    {
     "data": {
      "text/plain": [
       "torch.Size([32, 3, 224, 224])"
      ]
     },
     "execution_count": 16,
     "metadata": {},
     "output_type": "execute_result"
    }
   ],
   "source": [
    "img.shape"
   ]
  },
  {
   "cell_type": "code",
   "execution_count": 17,
   "id": "0449ac36-0a5e-4582-9e41-8aa9ff575643",
   "metadata": {},
   "outputs": [
    {
     "data": {
      "text/plain": [
       "<torch.cuda.device at 0x7fc48cfa5940>"
      ]
     },
     "execution_count": 17,
     "metadata": {},
     "output_type": "execute_result"
    }
   ],
   "source": [
    "device"
   ]
  },
  {
   "cell_type": "code",
   "execution_count": 19,
   "id": "2fee49d3-5cea-40da-a64d-8829e77e7557",
   "metadata": {},
   "outputs": [
    {
     "data": {
      "text/plain": [
       "device(type='cuda')"
      ]
     },
     "execution_count": 19,
     "metadata": {},
     "output_type": "execute_result"
    }
   ],
   "source": [
    "torch.device('cuda')"
   ]
  },
  {
   "cell_type": "code",
   "execution_count": 45,
   "id": "b13704d8-158f-4d7e-88d6-0fdbf8f46710",
   "metadata": {},
   "outputs": [
    {
     "data": {
      "text/plain": [
       "32"
      ]
     },
     "execution_count": 45,
     "metadata": {},
     "output_type": "execute_result"
    }
   ],
   "source": [
    "\n",
    "batch[0].shape[0]"
   ]
  },
  {
   "cell_type": "code",
   "execution_count": null,
   "id": "acb940b4-c743-46c3-b3a1-48756107975f",
   "metadata": {},
   "outputs": [],
   "source": []
  }
 ],
 "metadata": {
  "kernelspec": {
   "display_name": "Python 3 (ipykernel)",
   "language": "python",
   "name": "python3"
  },
  "language_info": {
   "codemirror_mode": {
    "name": "ipython",
    "version": 3
   },
   "file_extension": ".py",
   "mimetype": "text/x-python",
   "name": "python",
   "nbconvert_exporter": "python",
   "pygments_lexer": "ipython3",
   "version": "3.8.12"
  }
 },
 "nbformat": 4,
 "nbformat_minor": 5
}
